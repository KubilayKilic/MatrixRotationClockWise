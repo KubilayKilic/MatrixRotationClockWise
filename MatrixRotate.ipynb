{
 "cells": [
  {
   "cell_type": "code",
   "execution_count": 4,
   "metadata": {
    "collapsed": true,
    "jupyter": {
     "outputs_hidden": true
    }
   },
   "outputs": [
    {
     "name": "stdout",
     "output_type": "stream",
     "text": [
      "[1, 2, 3, 4]\n",
      "[5, 6, 7, 8]\n",
      "[9, 10, 11, 12]\n",
      "[13, 14, 15, 16]\n",
      "[13, 9, 5, 1]\n",
      "[14, 10, 6, 2]\n",
      "[15, 11, 7, 3]\n",
      "[16, 12, 8, 4]\n",
      "[1, 2, 3, 4, 5]\n",
      "[6, 7, 8, 9, 10]\n",
      "[11, 12, 13, 14, 15]\n",
      "[16, 17, 18, 19, 20]\n",
      "[21, 22, 23, 24, 25]\n",
      "[21, 16, 11, 6, 1]\n",
      "[22, 17, 12, 7, 2]\n",
      "[23, 18, 13, 8, 3]\n",
      "[24, 19, 14, 9, 4]\n",
      "[25, 20, 15, 10, 5]\n"
     ]
    }
   ],
   "source": [
    "#90 degree clockwise Rotation function for given matrix.\n",
    "\n",
    "#storing first element to temp, than simply rotating \n",
    "#first to rigt,\n",
    "#right to bottom,\n",
    "#bottom to left,\n",
    "#left to temp.\n",
    "\n",
    "def rCw90 (K):\n",
    "    N = len(K[0])\n",
    "    for x in range (N // 2):\n",
    "        for y in range (x, N-x-1):\n",
    "            temp = K[x][y]\n",
    "            K[x][y] = K[N-1-y][x]\n",
    "            K[N-1-y][x] = K[N-1-x][N-1-y]\n",
    "            K[N-1-x][N-1-y] = K[y][N-1-x]\n",
    "            K[y][N-1-x] = temp\n",
    "            \n",
    "def printM(K):\n",
    "    N = len(K[0])\n",
    "    for x in range (N):\n",
    "            print(K[x])\n",
    "\n",
    "K = [[1, 2, 3, 4], \n",
    "     [5, 6, 7, 8],\n",
    "     [9, 10, 11, 12],\n",
    "     [13, 14, 15, 16]]\n",
    "\n",
    "printM(K) #print before rotation.\n",
    "\n",
    "rCw90(K) #run rotation func.\n",
    "\n",
    "printM(K) #print after rotation.\n",
    "\n",
    "#5x5 matrix\n",
    "\n",
    "U = [[1,2,3,4,5],\n",
    "     [6,7,8,9,10],\n",
    "     [11,12,13,14,15],\n",
    "     [16,17,18,19,20],\n",
    "     [21,22,23,24,25]]\n",
    "\n",
    "printM(U)\n",
    "rCw90(U)\n",
    "printM(U)"
   ]
  }
 ],
 "metadata": {
  "kernelspec": {
   "display_name": "Python 3",
   "language": "python",
   "name": "python3"
  },
  "language_info": {
   "codemirror_mode": {
    "name": "ipython",
    "version": 3
   },
   "file_extension": ".py",
   "mimetype": "text/x-python",
   "name": "python",
   "nbconvert_exporter": "python",
   "pygments_lexer": "ipython3",
   "version": "3.7.4"
  }
 },
 "nbformat": 4,
 "nbformat_minor": 4
}
